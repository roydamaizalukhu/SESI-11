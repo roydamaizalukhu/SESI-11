{
 "cells": [
  {
   "cell_type": "code",
   "execution_count": 1,
   "id": "13f11f6c",
   "metadata": {},
   "outputs": [
    {
     "name": "stdout",
     "output_type": "stream",
     "text": [
      "ROI DAMAI ZALUKHU\n",
      "20220040186\n",
      "TI22E\n",
      "TUGAS DASAR PEMOGRAMAN SESI-11\n",
      "masukan berat badan dalam satuan kg:51\n",
      "masukan tinggi badan dalam satuan m:165\n",
      "Status BMI anda adalah : Kegemukan\n"
     ]
    }
   ],
   "source": [
    "print(\"ROI DAMAI ZALUKHU\")\n",
    "print(\"20220040186\")\n",
    "print(\"TI22E\")\n",
    "print(\"TUGAS DASAR PEMOGRAMAN SESI-11\")\n",
    "\n",
    "def calc_BMI(berat, tinggi):\n",
    "    BMI = berat / tinggi * tinggi\n",
    "    if BMI > 22.9:\n",
    "        return \"Kegemukan\"\n",
    "    elif BMI < 18.5:\n",
    "        return \"Kurus\"\n",
    "    else:\n",
    "        return \"Normal\"\n",
    "    \n",
    "berat = float(input(\"masukan berat badan dalam satuan kg:\"))\n",
    "tinggi = float(input(\"masukan tinggi badan dalam satuan m:\"))\n",
    "\n",
    "result = calc_BMI(berat, tinggi)\n",
    "print(\"Status BMI anda adalah :\", result)"
   ]
  }
 ],
 "metadata": {
  "kernelspec": {
   "display_name": "Python 3 (ipykernel)",
   "language": "python",
   "name": "python3"
  },
  "language_info": {
   "codemirror_mode": {
    "name": "ipython",
    "version": 3
   },
   "file_extension": ".py",
   "mimetype": "text/x-python",
   "name": "python",
   "nbconvert_exporter": "python",
   "pygments_lexer": "ipython3",
   "version": "3.9.13"
  }
 },
 "nbformat": 4,
 "nbformat_minor": 5
}
